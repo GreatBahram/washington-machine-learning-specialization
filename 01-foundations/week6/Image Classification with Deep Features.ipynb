{
 "cells": [
  {
   "cell_type": "code",
   "execution_count": 2,
   "metadata": {},
   "outputs": [],
   "source": [
    "import pandas as pd\n",
    "\n",
    "%matplotlib inline"
   ]
  },
  {
   "cell_type": "markdown",
   "metadata": {},
   "source": [
    "# Load a common image analysis dataset"
   ]
  },
  {
   "cell_type": "code",
   "execution_count": 47,
   "metadata": {},
   "outputs": [],
   "source": [
    "train = pd.read_csv(\"image_train.csv\", index_col=0)\n",
    "test = pd.read_csv(\"image_test.csv\", index_col=0)"
   ]
  },
  {
   "cell_type": "markdown",
   "metadata": {},
   "source": [
    "## Convert ~turi-create~ dataset into more applicable dataset"
   ]
  },
  {
   "cell_type": "code",
   "execution_count": 144,
   "metadata": {},
   "outputs": [],
   "source": [
    "def extract_features(dataframe: pd.DataFrame, column: str):\n",
    "    raw_data = [\n",
    "        re.search(r\"\\[(.*)\\]\", col).group(1)\n",
    "        for col in dataframe.loc[:, column]\n",
    "    ]\n",
    "    normalized_data = [\n",
    "        list(map(float, row.split()))\n",
    "        for row in raw_data\n",
    "    ]\n",
    "    return pd.DataFrame(normalized_data, index=dataframe.index).add_prefix(column)\n"
   ]
  },
  {
   "cell_type": "code",
   "execution_count": 163,
   "metadata": {},
   "outputs": [],
   "source": [
    "# fix the train dataset\n",
    "image_array_df = extract_features(train, 'image_array')\n",
    "\n",
    "deep_features_df = extract_features(train, 'deep_features')\n",
    "\n",
    "train = pd.concat(\n",
    "    (\n",
    "    train.drop(['deep_features', 'image_array'], axis=1),\n",
    "    image_array_df,\n",
    "    deep_features_df\n",
    "    )\n",
    "    , axis='columns'\n",
    ")"
   ]
  },
  {
   "cell_type": "code",
   "execution_count": 164,
   "metadata": {},
   "outputs": [],
   "source": [
    "# fix the test dataset\n",
    "image_array_df = extract_features(test, 'image_array')\n",
    "\n",
    "deep_features_df = extract_features(test, 'deep_features')\n",
    "\n",
    "test = pd.concat(\n",
    "    (\n",
    "    test.drop(['deep_features', 'image_array'], axis=1),\n",
    "    image_array_df,\n",
    "    deep_features_df\n",
    "    )\n",
    "    , axis='columns'\n",
    ")"
   ]
  },
  {
   "cell_type": "code",
   "execution_count": 225,
   "metadata": {},
   "outputs": [],
   "source": [
    "# convert label to category\n",
    "train['label'] = train.label.astype('category')\n",
    "test['label'] = test.label.astype('category')"
   ]
  },
  {
   "cell_type": "code",
   "execution_count": 167,
   "metadata": {},
   "outputs": [
    {
     "data": {
      "text/html": [
       "<div>\n",
       "<style scoped>\n",
       "    .dataframe tbody tr th:only-of-type {\n",
       "        vertical-align: middle;\n",
       "    }\n",
       "\n",
       "    .dataframe tbody tr th {\n",
       "        vertical-align: top;\n",
       "    }\n",
       "\n",
       "    .dataframe thead th {\n",
       "        text-align: right;\n",
       "    }\n",
       "</style>\n",
       "<table border=\"1\" class=\"dataframe\">\n",
       "  <thead>\n",
       "    <tr style=\"text-align: right;\">\n",
       "      <th></th>\n",
       "      <th>image</th>\n",
       "      <th>label</th>\n",
       "      <th>image_array0</th>\n",
       "      <th>image_array1</th>\n",
       "      <th>image_array2</th>\n",
       "      <th>image_array3</th>\n",
       "      <th>image_array4</th>\n",
       "      <th>image_array5</th>\n",
       "      <th>image_array6</th>\n",
       "      <th>image_array7</th>\n",
       "      <th>...</th>\n",
       "      <th>deep_features4086</th>\n",
       "      <th>deep_features4087</th>\n",
       "      <th>deep_features4088</th>\n",
       "      <th>deep_features4089</th>\n",
       "      <th>deep_features4090</th>\n",
       "      <th>deep_features4091</th>\n",
       "      <th>deep_features4092</th>\n",
       "      <th>deep_features4093</th>\n",
       "      <th>deep_features4094</th>\n",
       "      <th>deep_features4095</th>\n",
       "    </tr>\n",
       "    <tr>\n",
       "      <th>id</th>\n",
       "      <th></th>\n",
       "      <th></th>\n",
       "      <th></th>\n",
       "      <th></th>\n",
       "      <th></th>\n",
       "      <th></th>\n",
       "      <th></th>\n",
       "      <th></th>\n",
       "      <th></th>\n",
       "      <th></th>\n",
       "      <th></th>\n",
       "      <th></th>\n",
       "      <th></th>\n",
       "      <th></th>\n",
       "      <th></th>\n",
       "      <th></th>\n",
       "      <th></th>\n",
       "      <th></th>\n",
       "      <th></th>\n",
       "      <th></th>\n",
       "      <th></th>\n",
       "    </tr>\n",
       "  </thead>\n",
       "  <tbody>\n",
       "    <tr>\n",
       "      <th>24</th>\n",
       "      <td>Height: 32 Width: 32</td>\n",
       "      <td>bird</td>\n",
       "      <td>73.0</td>\n",
       "      <td>77.0</td>\n",
       "      <td>58.0</td>\n",
       "      <td>71.0</td>\n",
       "      <td>68.0</td>\n",
       "      <td>50.0</td>\n",
       "      <td>77.0</td>\n",
       "      <td>69.0</td>\n",
       "      <td>...</td>\n",
       "      <td>0.000000</td>\n",
       "      <td>0.000000</td>\n",
       "      <td>0.421911</td>\n",
       "      <td>0.90445</td>\n",
       "      <td>1.10052</td>\n",
       "      <td>0.0</td>\n",
       "      <td>1.31538</td>\n",
       "      <td>0.0</td>\n",
       "      <td>0.0</td>\n",
       "      <td>0.00000</td>\n",
       "    </tr>\n",
       "    <tr>\n",
       "      <th>33</th>\n",
       "      <td>Height: 32 Width: 32</td>\n",
       "      <td>cat</td>\n",
       "      <td>7.0</td>\n",
       "      <td>5.0</td>\n",
       "      <td>8.0</td>\n",
       "      <td>7.0</td>\n",
       "      <td>5.0</td>\n",
       "      <td>8.0</td>\n",
       "      <td>5.0</td>\n",
       "      <td>4.0</td>\n",
       "      <td>...</td>\n",
       "      <td>1.142790</td>\n",
       "      <td>0.000000</td>\n",
       "      <td>0.000000</td>\n",
       "      <td>0.00000</td>\n",
       "      <td>0.00000</td>\n",
       "      <td>0.0</td>\n",
       "      <td>0.00000</td>\n",
       "      <td>0.0</td>\n",
       "      <td>0.0</td>\n",
       "      <td>0.50845</td>\n",
       "    </tr>\n",
       "    <tr>\n",
       "      <th>36</th>\n",
       "      <td>Height: 32 Width: 32</td>\n",
       "      <td>cat</td>\n",
       "      <td>169.0</td>\n",
       "      <td>122.0</td>\n",
       "      <td>65.0</td>\n",
       "      <td>131.0</td>\n",
       "      <td>108.0</td>\n",
       "      <td>75.0</td>\n",
       "      <td>193.0</td>\n",
       "      <td>196.0</td>\n",
       "      <td>...</td>\n",
       "      <td>0.000000</td>\n",
       "      <td>0.445423</td>\n",
       "      <td>0.000000</td>\n",
       "      <td>1.38121</td>\n",
       "      <td>0.00000</td>\n",
       "      <td>0.0</td>\n",
       "      <td>0.00000</td>\n",
       "      <td>0.0</td>\n",
       "      <td>0.0</td>\n",
       "      <td>0.00000</td>\n",
       "    </tr>\n",
       "    <tr>\n",
       "      <th>70</th>\n",
       "      <td>Height: 32 Width: 32</td>\n",
       "      <td>dog</td>\n",
       "      <td>154.0</td>\n",
       "      <td>179.0</td>\n",
       "      <td>152.0</td>\n",
       "      <td>159.0</td>\n",
       "      <td>183.0</td>\n",
       "      <td>157.0</td>\n",
       "      <td>165.0</td>\n",
       "      <td>189.0</td>\n",
       "      <td>...</td>\n",
       "      <td>0.188081</td>\n",
       "      <td>0.000000</td>\n",
       "      <td>0.000000</td>\n",
       "      <td>2.06970</td>\n",
       "      <td>0.00000</td>\n",
       "      <td>0.0</td>\n",
       "      <td>1.63330</td>\n",
       "      <td>0.0</td>\n",
       "      <td>0.0</td>\n",
       "      <td>0.00000</td>\n",
       "    </tr>\n",
       "    <tr>\n",
       "      <th>90</th>\n",
       "      <td>Height: 32 Width: 32</td>\n",
       "      <td>bird</td>\n",
       "      <td>216.0</td>\n",
       "      <td>195.0</td>\n",
       "      <td>180.0</td>\n",
       "      <td>201.0</td>\n",
       "      <td>178.0</td>\n",
       "      <td>160.0</td>\n",
       "      <td>210.0</td>\n",
       "      <td>184.0</td>\n",
       "      <td>...</td>\n",
       "      <td>1.447380</td>\n",
       "      <td>0.198865</td>\n",
       "      <td>0.000000</td>\n",
       "      <td>1.67262</td>\n",
       "      <td>0.00000</td>\n",
       "      <td>0.0</td>\n",
       "      <td>0.00000</td>\n",
       "      <td>0.0</td>\n",
       "      <td>0.0</td>\n",
       "      <td>0.00000</td>\n",
       "    </tr>\n",
       "  </tbody>\n",
       "</table>\n",
       "<p>5 rows × 7170 columns</p>\n",
       "</div>"
      ],
      "text/plain": [
       "                   image label  image_array0  image_array1  image_array2  \\\n",
       "id                                                                         \n",
       "24  Height: 32 Width: 32  bird          73.0          77.0          58.0   \n",
       "33  Height: 32 Width: 32   cat           7.0           5.0           8.0   \n",
       "36  Height: 32 Width: 32   cat         169.0         122.0          65.0   \n",
       "70  Height: 32 Width: 32   dog         154.0         179.0         152.0   \n",
       "90  Height: 32 Width: 32  bird         216.0         195.0         180.0   \n",
       "\n",
       "    image_array3  image_array4  image_array5  image_array6  image_array7  ...  \\\n",
       "id                                                                        ...   \n",
       "24          71.0          68.0          50.0          77.0          69.0  ...   \n",
       "33           7.0           5.0           8.0           5.0           4.0  ...   \n",
       "36         131.0         108.0          75.0         193.0         196.0  ...   \n",
       "70         159.0         183.0         157.0         165.0         189.0  ...   \n",
       "90         201.0         178.0         160.0         210.0         184.0  ...   \n",
       "\n",
       "    deep_features4086  deep_features4087  deep_features4088  \\\n",
       "id                                                            \n",
       "24           0.000000           0.000000           0.421911   \n",
       "33           1.142790           0.000000           0.000000   \n",
       "36           0.000000           0.445423           0.000000   \n",
       "70           0.188081           0.000000           0.000000   \n",
       "90           1.447380           0.198865           0.000000   \n",
       "\n",
       "    deep_features4089  deep_features4090  deep_features4091  \\\n",
       "id                                                            \n",
       "24            0.90445            1.10052                0.0   \n",
       "33            0.00000            0.00000                0.0   \n",
       "36            1.38121            0.00000                0.0   \n",
       "70            2.06970            0.00000                0.0   \n",
       "90            1.67262            0.00000                0.0   \n",
       "\n",
       "    deep_features4092  deep_features4093  deep_features4094  deep_features4095  \n",
       "id                                                                              \n",
       "24            1.31538                0.0                0.0            0.00000  \n",
       "33            0.00000                0.0                0.0            0.50845  \n",
       "36            0.00000                0.0                0.0            0.00000  \n",
       "70            1.63330                0.0                0.0            0.00000  \n",
       "90            0.00000                0.0                0.0            0.00000  \n",
       "\n",
       "[5 rows x 7170 columns]"
      ]
     },
     "execution_count": 167,
     "metadata": {},
     "output_type": "execute_result"
    }
   ],
   "source": [
    "train.head()"
   ]
  },
  {
   "cell_type": "code",
   "execution_count": 227,
   "metadata": {},
   "outputs": [],
   "source": [
    "simple_feature_cols = [col for col in train.columns if col.startswith('image_array')]\n",
    "X = train[simple_feature_cols]\n",
    "y = train.label"
   ]
  },
  {
   "cell_type": "markdown",
   "metadata": {},
   "source": [
    "# Exploring the image data"
   ]
  },
  {
   "cell_type": "markdown",
   "metadata": {},
   "source": [
    "# Train a classifier on the raw image pixels"
   ]
  },
  {
   "cell_type": "code",
   "execution_count": 238,
   "metadata": {},
   "outputs": [
    {
     "name": "stderr",
     "output_type": "stream",
     "text": [
      "/home/bahram/.virtualenvs/washington/lib/python3.8/site-packages/sklearn/linear_model/_logistic.py:762: ConvergenceWarning: lbfgs failed to converge (status=1):\n",
      "STOP: TOTAL NO. of ITERATIONS REACHED LIMIT.\n",
      "\n",
      "Increase the number of iterations (max_iter) or scale the data as shown in:\n",
      "    https://scikit-learn.org/stable/modules/preprocessing.html\n",
      "Please also refer to the documentation for alternative solver options:\n",
      "    https://scikit-learn.org/stable/modules/linear_model.html#logistic-regression\n",
      "  n_iter_i = _check_optimize_result(\n"
     ]
    },
    {
     "data": {
      "text/plain": [
       "LogisticRegression(max_iter=500)"
      ]
     },
     "execution_count": 238,
     "metadata": {},
     "output_type": "execute_result"
    }
   ],
   "source": [
    "from sklearn.linear_model import LogisticRegression\n",
    "\n",
    "raw_pixel_model = LogisticRegression(solver='lbfgs', max_iter=500)\n",
    "\n",
    "raw_pixel_model.fit(X, y)"
   ]
  },
  {
   "cell_type": "markdown",
   "metadata": {},
   "source": [
    "# Make a prediction with th esimple model based on raw pixels"
   ]
  },
  {
   "cell_type": "code",
   "execution_count": 239,
   "metadata": {},
   "outputs": [
    {
     "data": {
      "text/plain": [
       "id\n",
       "0           cat\n",
       "6    automobile\n",
       "8           cat\n",
       "Name: label, dtype: category\n",
       "Categories (4, object): ['automobile', 'bird', 'cat', 'dog']"
      ]
     },
     "execution_count": 239,
     "metadata": {},
     "output_type": "execute_result"
    }
   ],
   "source": [
    "test.head(3)['label']"
   ]
  },
  {
   "cell_type": "code",
   "execution_count": 240,
   "metadata": {},
   "outputs": [
    {
     "data": {
      "text/plain": [
       "array(['dog', 'cat', 'bird'], dtype=object)"
      ]
     },
     "execution_count": 240,
     "metadata": {},
     "output_type": "execute_result"
    }
   ],
   "source": [
    "logreg.predict(test.head(3)[simple_feature_cols])"
   ]
  },
  {
   "cell_type": "markdown",
   "metadata": {},
   "source": [
    "# Evaluating raw pixel model on test data"
   ]
  },
  {
   "cell_type": "code",
   "execution_count": 241,
   "metadata": {},
   "outputs": [],
   "source": [
    "from sklearn.metrics import accuracy_score\n",
    "\n",
    "y_pred = logreg.predict(test[simple_feature_cols])"
   ]
  },
  {
   "cell_type": "code",
   "execution_count": 242,
   "metadata": {},
   "outputs": [
    {
     "data": {
      "text/plain": [
       "0.42525"
      ]
     },
     "execution_count": 242,
     "metadata": {},
     "output_type": "execute_result"
    }
   ],
   "source": [
    "accuracy_score(test.label, y_pred)"
   ]
  },
  {
   "cell_type": "markdown",
   "metadata": {},
   "source": [
    "# Can we improve the model using deep features"
   ]
  },
  {
   "cell_type": "code",
   "execution_count": 243,
   "metadata": {},
   "outputs": [],
   "source": [
    "deep_learning_features = [\n",
    "    col\n",
    "    for col in train.columns\n",
    "    if col.startswith('deep_features')\n",
    "]\n",
    "\n",
    "X = train[deep_learning_features]\n",
    "y = train.label"
   ]
  },
  {
   "cell_type": "markdown",
   "metadata": {},
   "source": [
    "# Given the deep features, let's train classifier"
   ]
  },
  {
   "cell_type": "code",
   "execution_count": 247,
   "metadata": {},
   "outputs": [],
   "source": [
    "deep_learning_model = LogisticRegression(solver=\"lbfgs\", max_iter=500)\n",
    "\n",
    "deep_learning_model.fit(X, y)"
   ]
  },
  {
   "cell_type": "markdown",
   "metadata": {},
   "source": [
    "## Apply the deep features model to first few images of test data"
   ]
  },
  {
   "cell_type": "code",
   "execution_count": 253,
   "metadata": {},
   "outputs": [
    {
     "data": {
      "text/plain": [
       "id\n",
       "0           cat\n",
       "6    automobile\n",
       "8           cat\n",
       "Name: label, dtype: category\n",
       "Categories (4, object): ['automobile', 'bird', 'cat', 'dog']"
      ]
     },
     "execution_count": 253,
     "metadata": {},
     "output_type": "execute_result"
    }
   ],
   "source": [
    "test[0:3]['label']"
   ]
  },
  {
   "cell_type": "code",
   "execution_count": 254,
   "metadata": {},
   "outputs": [
    {
     "data": {
      "text/plain": [
       "array(['cat', 'automobile', 'cat'], dtype=object)"
      ]
     },
     "execution_count": 254,
     "metadata": {},
     "output_type": "execute_result"
    }
   ],
   "source": [
    "deep_learning_model.predict(test[0:3][deep_learning_features])"
   ]
  },
  {
   "cell_type": "markdown",
   "metadata": {},
   "source": [
    "## Compute test_data accuracy of deep_features_model"
   ]
  },
  {
   "cell_type": "code",
   "execution_count": 256,
   "metadata": {},
   "outputs": [],
   "source": [
    "y_pred = deep_learning_model.predict(test[deep_learning_features])"
   ]
  },
  {
   "cell_type": "code",
   "execution_count": 257,
   "metadata": {},
   "outputs": [
    {
     "data": {
      "text/plain": [
       "0.79875"
      ]
     },
     "execution_count": 257,
     "metadata": {},
     "output_type": "execute_result"
    }
   ],
   "source": [
    "accuracy_score(test.label, y_pred)"
   ]
  }
 ],
 "metadata": {
  "kernelspec": {
   "display_name": "Python 3",
   "language": "python",
   "name": "python3"
  },
  "language_info": {
   "codemirror_mode": {
    "name": "ipython",
    "version": 3
   },
   "file_extension": ".py",
   "mimetype": "text/x-python",
   "name": "python",
   "nbconvert_exporter": "python",
   "pygments_lexer": "ipython3",
   "version": "3.8.6"
  }
 },
 "nbformat": 4,
 "nbformat_minor": 4
}
