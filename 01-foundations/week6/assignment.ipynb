{
 "cells": [
  {
   "cell_type": "code",
   "execution_count": 1,
   "metadata": {},
   "outputs": [],
   "source": [
    "import pandas as pd\n",
    "\n",
    "%matplotlib inline"
   ]
  },
  {
   "cell_type": "markdown",
   "metadata": {},
   "source": [
    "# Load the datasets"
   ]
  },
  {
   "cell_type": "code",
   "execution_count": 3,
   "metadata": {},
   "outputs": [],
   "source": [
    "train = pd.read_csv(\"image_train.csv\")\n",
    "test = pd.read_csv(\"image_test.csv\")"
   ]
  },
  {
   "cell_type": "code",
   "execution_count": 8,
   "metadata": {},
   "outputs": [],
   "source": [
    "import re\n",
    "\n",
    "\n",
    "def extract_features(dataframe: pd.DataFrame, column: str):\n",
    "    \"\"\"\n",
    "    Convert both image_array and deep_features object columns to \n",
    "    separate pandas integer columns.\n",
    "    \"\"\"\n",
    "    raw_data = [\n",
    "        re.search(r\"\\[(.*)\\]\", col).group(1)\n",
    "        for col in dataframe.loc[:, column]\n",
    "    ]\n",
    "    normalized_data = [\n",
    "        list(map(float, row.split()))\n",
    "        for row in raw_data\n",
    "    ]\n",
    "    return pd.DataFrame(normalized_data).add_prefix(column)\n",
    "\n",
    "# re-build the train dataset\n",
    "train = pd.concat(\n",
    "    (\n",
    "    train.drop(['deep_features', 'image_array'], axis=1),\n",
    "    extract_features(train, 'image_array'),\n",
    "    extract_features(train, 'deep_features'),\n",
    "    )\n",
    "    , axis='columns'\n",
    ")\n",
    "\n",
    "# re-build the test dataset\n",
    "test = pd.concat(\n",
    "    (\n",
    "    test.drop(['deep_features', 'image_array'], axis=1),\n",
    "    extract_features(test, 'image_array'),\n",
    "    extract_features(test, 'deep_features')\n",
    "    )\n",
    "    , axis='columns'\n",
    ")\n",
    "\n",
    "# change label type to category\n",
    "train['label'] = train.label.astype('category')\n",
    "test['label'] = test.label.astype('category')"
   ]
  },
  {
   "cell_type": "markdown",
   "metadata": {},
   "source": [
    "# Programming Assignment"
   ]
  },
  {
   "cell_type": "markdown",
   "metadata": {},
   "source": [
    "## Task 1: Compute summary statistics of the data"
   ]
  },
  {
   "cell_type": "markdown",
   "metadata": {},
   "source": [
    "* What is the **least common category in** the training data?"
   ]
  },
  {
   "cell_type": "code",
   "execution_count": 9,
   "metadata": {},
   "outputs": [
    {
     "data": {
      "text/plain": [
       "dog           509\n",
       "cat           509\n",
       "automobile    509\n",
       "bird          478\n",
       "Name: label, dtype: int64"
      ]
     },
     "execution_count": 9,
     "metadata": {},
     "output_type": "execute_result"
    }
   ],
   "source": [
    "train.label.value_counts()"
   ]
  },
  {
   "cell_type": "markdown",
   "metadata": {},
   "source": [
    "## Task 2: Create category-specific image retrieval models"
   ]
  },
  {
   "cell_type": "code",
   "execution_count": 19,
   "metadata": {},
   "outputs": [],
   "source": [
    "feature_cols = [\n",
    "    col\n",
    "    for col in dog_df.columns\n",
    "    if col.startswith('deep_features')\n",
    "]"
   ]
  },
  {
   "cell_type": "markdown",
   "metadata": {},
   "source": [
    "### 2.1 Split the training data into 4 different Dataframe data structures"
   ]
  },
  {
   "cell_type": "code",
   "execution_count": 25,
   "metadata": {},
   "outputs": [],
   "source": [
    "labels = ['bird', 'cat', 'dog', 'automobile']"
   ]
  },
  {
   "cell_type": "code",
   "execution_count": 26,
   "metadata": {},
   "outputs": [],
   "source": [
    "dataframes = {}\n",
    "for label in labels:\n",
    "    dataframes[label] = train[train.label == label]"
   ]
  },
  {
   "cell_type": "code",
   "execution_count": 30,
   "metadata": {},
   "outputs": [
    {
     "data": {
      "text/plain": [
       "dict_keys(['bird', 'cat', 'dog', 'automobile'])"
      ]
     },
     "execution_count": 30,
     "metadata": {},
     "output_type": "execute_result"
    }
   ],
   "source": [
    "dataframes.keys()"
   ]
  },
  {
   "cell_type": "markdown",
   "metadata": {},
   "source": [
    "### 2.2 Create a nearest neighbor model using deep features for each dataframe"
   ]
  },
  {
   "cell_type": "code",
   "execution_count": 16,
   "metadata": {},
   "outputs": [],
   "source": [
    "from sklearn.neighbors import NearestNeighbors"
   ]
  },
  {
   "cell_type": "code",
   "execution_count": 32,
   "metadata": {},
   "outputs": [],
   "source": [
    "models = {}\n",
    "\n",
    "for label in labels:\n",
    "    models[label] = NearestNeighbors()\n",
    "    models[label].fit(dataframes[label][feature_cols])"
   ]
  },
  {
   "cell_type": "code",
   "execution_count": 33,
   "metadata": {},
   "outputs": [
    {
     "data": {
      "text/plain": [
       "{'bird': NearestNeighbors(),\n",
       " 'cat': NearestNeighbors(),\n",
       " 'dog': NearestNeighbors(),\n",
       " 'automobile': NearestNeighbors()}"
      ]
     },
     "execution_count": 33,
     "metadata": {},
     "output_type": "execute_result"
    }
   ],
   "source": [
    "models"
   ]
  },
  {
   "cell_type": "markdown",
   "metadata": {},
   "source": [
    "### 2.3 Using these models, answer the following questions."
   ]
  },
  {
   "cell_type": "markdown",
   "metadata": {},
   "source": [
    "* What is the nearest cat-labeled image in the training data to the cat image that is the first image in the test data ?"
   ]
  },
  {
   "cell_type": "code",
   "execution_count": 37,
   "metadata": {},
   "outputs": [],
   "source": [
    "cat = test.iloc[[0]]"
   ]
  },
  {
   "cell_type": "code",
   "execution_count": 43,
   "metadata": {},
   "outputs": [],
   "source": [
    "distance, index = models['cat'].kneighbors(cat[feature_cols], n_neighbors=1)"
   ]
  },
  {
   "cell_type": "code",
   "execution_count": 44,
   "metadata": {},
   "outputs": [
    {
     "data": {
      "text/html": [
       "<div>\n",
       "<style scoped>\n",
       "    .dataframe tbody tr th:only-of-type {\n",
       "        vertical-align: middle;\n",
       "    }\n",
       "\n",
       "    .dataframe tbody tr th {\n",
       "        vertical-align: top;\n",
       "    }\n",
       "\n",
       "    .dataframe thead th {\n",
       "        text-align: right;\n",
       "    }\n",
       "</style>\n",
       "<table border=\"1\" class=\"dataframe\">\n",
       "  <thead>\n",
       "    <tr style=\"text-align: right;\">\n",
       "      <th></th>\n",
       "      <th>id</th>\n",
       "      <th>image</th>\n",
       "      <th>label</th>\n",
       "      <th>image_array0</th>\n",
       "      <th>image_array1</th>\n",
       "      <th>image_array2</th>\n",
       "      <th>image_array3</th>\n",
       "      <th>image_array4</th>\n",
       "      <th>image_array5</th>\n",
       "      <th>image_array6</th>\n",
       "      <th>...</th>\n",
       "      <th>deep_features4086</th>\n",
       "      <th>deep_features4087</th>\n",
       "      <th>deep_features4088</th>\n",
       "      <th>deep_features4089</th>\n",
       "      <th>deep_features4090</th>\n",
       "      <th>deep_features4091</th>\n",
       "      <th>deep_features4092</th>\n",
       "      <th>deep_features4093</th>\n",
       "      <th>deep_features4094</th>\n",
       "      <th>deep_features4095</th>\n",
       "    </tr>\n",
       "  </thead>\n",
       "  <tbody>\n",
       "    <tr>\n",
       "      <th>669</th>\n",
       "      <td>16289</td>\n",
       "      <td>Height: 32 Width: 32</td>\n",
       "      <td>cat</td>\n",
       "      <td>215.0</td>\n",
       "      <td>219.0</td>\n",
       "      <td>231.0</td>\n",
       "      <td>215.0</td>\n",
       "      <td>219.0</td>\n",
       "      <td>232.0</td>\n",
       "      <td>216.0</td>\n",
       "      <td>...</td>\n",
       "      <td>0.0</td>\n",
       "      <td>0.0</td>\n",
       "      <td>0.0</td>\n",
       "      <td>0.479628</td>\n",
       "      <td>0.0</td>\n",
       "      <td>0.0</td>\n",
       "      <td>0.0</td>\n",
       "      <td>0.0</td>\n",
       "      <td>0.0</td>\n",
       "      <td>0.0</td>\n",
       "    </tr>\n",
       "  </tbody>\n",
       "</table>\n",
       "<p>1 rows × 7171 columns</p>\n",
       "</div>"
      ],
      "text/plain": [
       "        id                 image label  image_array0  image_array1  \\\n",
       "669  16289  Height: 32 Width: 32   cat         215.0         219.0   \n",
       "\n",
       "     image_array2  image_array3  image_array4  image_array5  image_array6  \\\n",
       "669         231.0         215.0         219.0         232.0         216.0   \n",
       "\n",
       "     ...  deep_features4086  deep_features4087  deep_features4088  \\\n",
       "669  ...                0.0                0.0                0.0   \n",
       "\n",
       "     deep_features4089  deep_features4090  deep_features4091  \\\n",
       "669           0.479628                0.0                0.0   \n",
       "\n",
       "     deep_features4092  deep_features4093  deep_features4094  \\\n",
       "669                0.0                0.0                0.0   \n",
       "\n",
       "     deep_features4095  \n",
       "669                0.0  \n",
       "\n",
       "[1 rows x 7171 columns]"
      ]
     },
     "execution_count": 44,
     "metadata": {},
     "output_type": "execute_result"
    }
   ],
   "source": [
    "dataframes['cat'].iloc[index[0]]"
   ]
  },
  {
   "cell_type": "markdown",
   "metadata": {},
   "source": [
    "* What is the nearest dog-labeled image in the training data to the cat image that is the first image in the test data?"
   ]
  },
  {
   "cell_type": "code",
   "execution_count": 45,
   "metadata": {},
   "outputs": [],
   "source": [
    "distance, index = models['dog'].kneighbors(cat[feature_cols], n_neighbors=1)"
   ]
  },
  {
   "cell_type": "code",
   "execution_count": 46,
   "metadata": {},
   "outputs": [
    {
     "data": {
      "text/html": [
       "<div>\n",
       "<style scoped>\n",
       "    .dataframe tbody tr th:only-of-type {\n",
       "        vertical-align: middle;\n",
       "    }\n",
       "\n",
       "    .dataframe tbody tr th {\n",
       "        vertical-align: top;\n",
       "    }\n",
       "\n",
       "    .dataframe thead th {\n",
       "        text-align: right;\n",
       "    }\n",
       "</style>\n",
       "<table border=\"1\" class=\"dataframe\">\n",
       "  <thead>\n",
       "    <tr style=\"text-align: right;\">\n",
       "      <th></th>\n",
       "      <th>id</th>\n",
       "      <th>image</th>\n",
       "      <th>label</th>\n",
       "      <th>image_array0</th>\n",
       "      <th>image_array1</th>\n",
       "      <th>image_array2</th>\n",
       "      <th>image_array3</th>\n",
       "      <th>image_array4</th>\n",
       "      <th>image_array5</th>\n",
       "      <th>image_array6</th>\n",
       "      <th>...</th>\n",
       "      <th>deep_features4086</th>\n",
       "      <th>deep_features4087</th>\n",
       "      <th>deep_features4088</th>\n",
       "      <th>deep_features4089</th>\n",
       "      <th>deep_features4090</th>\n",
       "      <th>deep_features4091</th>\n",
       "      <th>deep_features4092</th>\n",
       "      <th>deep_features4093</th>\n",
       "      <th>deep_features4094</th>\n",
       "      <th>deep_features4095</th>\n",
       "    </tr>\n",
       "  </thead>\n",
       "  <tbody>\n",
       "    <tr>\n",
       "      <th>703</th>\n",
       "      <td>16976</td>\n",
       "      <td>Height: 32 Width: 32</td>\n",
       "      <td>dog</td>\n",
       "      <td>16.0</td>\n",
       "      <td>17.0</td>\n",
       "      <td>11.0</td>\n",
       "      <td>18.0</td>\n",
       "      <td>19.0</td>\n",
       "      <td>13.0</td>\n",
       "      <td>20.0</td>\n",
       "      <td>...</td>\n",
       "      <td>0.727477</td>\n",
       "      <td>0.0</td>\n",
       "      <td>0.0</td>\n",
       "      <td>1.75611</td>\n",
       "      <td>0.0</td>\n",
       "      <td>0.0</td>\n",
       "      <td>0.0</td>\n",
       "      <td>0.318482</td>\n",
       "      <td>0.0</td>\n",
       "      <td>0.0</td>\n",
       "    </tr>\n",
       "  </tbody>\n",
       "</table>\n",
       "<p>1 rows × 7171 columns</p>\n",
       "</div>"
      ],
      "text/plain": [
       "        id                 image label  image_array0  image_array1  \\\n",
       "703  16976  Height: 32 Width: 32   dog          16.0          17.0   \n",
       "\n",
       "     image_array2  image_array3  image_array4  image_array5  image_array6  \\\n",
       "703          11.0          18.0          19.0          13.0          20.0   \n",
       "\n",
       "     ...  deep_features4086  deep_features4087  deep_features4088  \\\n",
       "703  ...           0.727477                0.0                0.0   \n",
       "\n",
       "     deep_features4089  deep_features4090  deep_features4091  \\\n",
       "703            1.75611                0.0                0.0   \n",
       "\n",
       "     deep_features4092  deep_features4093  deep_features4094  \\\n",
       "703                0.0           0.318482                0.0   \n",
       "\n",
       "     deep_features4095  \n",
       "703                0.0  \n",
       "\n",
       "[1 rows x 7171 columns]"
      ]
     },
     "execution_count": 46,
     "metadata": {},
     "output_type": "execute_result"
    }
   ],
   "source": [
    "dataframes['dog'].iloc[index[0]]"
   ]
  },
  {
   "cell_type": "markdown",
   "metadata": {},
   "source": [
    "## Task 3: Try a simple example of nearest-neighbors classification"
   ]
  },
  {
   "cell_type": "markdown",
   "metadata": {},
   "source": [
    "* For the first image in the test data, compute the mean distance between this image at its five nearest neighbors that are labeled ‘cat’ in the training data."
   ]
  },
  {
   "cell_type": "code",
   "execution_count": 51,
   "metadata": {},
   "outputs": [
    {
     "data": {
      "text/plain": [
       "36.15572932231885"
      ]
     },
     "execution_count": 51,
     "metadata": {},
     "output_type": "execute_result"
    }
   ],
   "source": [
    "distances, indexes = models['cat'].kneighbors(cat[feature_cols], n_neighbors=5)\n",
    "\n",
    "distances.mean()"
   ]
  },
  {
   "cell_type": "markdown",
   "metadata": {},
   "source": [
    "* For the first image in the test data, compute the mean distance between this image at its five nearest neighbors that are labeled ‘dog’ in the training data."
   ]
  },
  {
   "cell_type": "code",
   "execution_count": 50,
   "metadata": {},
   "outputs": [
    {
     "data": {
      "text/plain": [
       "37.77071193352956"
      ]
     },
     "execution_count": 50,
     "metadata": {},
     "output_type": "execute_result"
    }
   ],
   "source": [
    "distances, indexes = models['dog'].kneighbors(cat[feature_cols], n_neighbors=5)\n",
    "\n",
    "distances.mean()"
   ]
  },
  {
   "cell_type": "markdown",
   "metadata": {},
   "source": [
    "* On average, is the first image in the test data closer to its five nearest neighbors in the ‘cat’ data or in the ‘dog’ data?\n",
    "\n",
    "The lower, the closer, so **cat**."
   ]
  },
  {
   "cell_type": "markdown",
   "metadata": {},
   "source": [
    "## Task 4: Compute nearest neighbors accuracy"
   ]
  },
  {
   "cell_type": "code",
   "execution_count": 56,
   "metadata": {},
   "outputs": [],
   "source": [
    "dog_model = models['dog']\n",
    "cat_model = models['cat']\n",
    "bird_model = models['bird']\n",
    "automobile_model = models['automobile']"
   ]
  },
  {
   "cell_type": "markdown",
   "metadata": {},
   "source": [
    "### Split the test data"
   ]
  },
  {
   "cell_type": "code",
   "execution_count": 55,
   "metadata": {},
   "outputs": [],
   "source": [
    "image_test_cat = test[test.label == 'cat']\n",
    "image_test_dog  = test[test.label == 'dog']\n",
    "image_test_bird = test[test.label == 'bird']\n",
    "image_test_automobile = test[test.label == 'automobile']"
   ]
  },
  {
   "cell_type": "markdown",
   "metadata": {},
   "source": [
    "### Find the closest neighbor to the dog test data using each of the trained models"
   ]
  },
  {
   "cell_type": "code",
   "execution_count": 63,
   "metadata": {},
   "outputs": [],
   "source": [
    "dog_cat_neighbors = cat_model.kneighbors(image_test_dog[feature_cols], n_neighbors=1)\n",
    "\n",
    "dog_dog_neighbors = dog_model.kneighbors(image_test_dog[feature_cols], n_neighbors=1)\n",
    "\n",
    "dog_bird_neighbors = bird_model.kneighbors(image_test_dog[feature_cols], n_neighbors=1)\n",
    "\n",
    "dog_automobile_neighbors = automobile_model.kneighbors(image_test_dog[feature_cols], n_neighbors=1)"
   ]
  },
  {
   "cell_type": "markdown",
   "metadata": {},
   "source": [
    "### Create a Dataframe with the distances from the dog test examples to the respective nearest neighbors in each class in the training data."
   ]
  },
  {
   "cell_type": "code",
   "execution_count": 67,
   "metadata": {},
   "outputs": [
    {
     "data": {
      "text/plain": [
       "array([41.95798179])"
      ]
     },
     "execution_count": 67,
     "metadata": {},
     "output_type": "execute_result"
    }
   ],
   "source": [
    "dog_automobile_neighbors[0]"
   ]
  },
  {
   "cell_type": "code",
   "execution_count": 70,
   "metadata": {},
   "outputs": [],
   "source": [
    "dog_distances = pd.DataFrame(\n",
    "    {\n",
    "    'dog-automobile': dog_automobile_neighbors[0].flatten(),\n",
    "    'dog-bird': dog_bird_neighbors[0].flatten(),\n",
    "    'dog-cat': dog_bird_neighbors[0].flatten(),\n",
    "    'dog-dog': dog_dog_neighbors[0].flatten(),\n",
    "     }\n",
    ")"
   ]
  },
  {
   "cell_type": "code",
   "execution_count": 71,
   "metadata": {},
   "outputs": [
    {
     "data": {
      "text/html": [
       "<div>\n",
       "<style scoped>\n",
       "    .dataframe tbody tr th:only-of-type {\n",
       "        vertical-align: middle;\n",
       "    }\n",
       "\n",
       "    .dataframe tbody tr th {\n",
       "        vertical-align: top;\n",
       "    }\n",
       "\n",
       "    .dataframe thead th {\n",
       "        text-align: right;\n",
       "    }\n",
       "</style>\n",
       "<table border=\"1\" class=\"dataframe\">\n",
       "  <thead>\n",
       "    <tr style=\"text-align: right;\">\n",
       "      <th></th>\n",
       "      <th>dog-automobile</th>\n",
       "      <th>dog-bird</th>\n",
       "      <th>dog-cat</th>\n",
       "      <th>dog-dog</th>\n",
       "    </tr>\n",
       "  </thead>\n",
       "  <tbody>\n",
       "    <tr>\n",
       "      <th>0</th>\n",
       "      <td>41.957982</td>\n",
       "      <td>41.753863</td>\n",
       "      <td>41.753863</td>\n",
       "      <td>33.477354</td>\n",
       "    </tr>\n",
       "    <tr>\n",
       "      <th>1</th>\n",
       "      <td>46.002135</td>\n",
       "      <td>41.338292</td>\n",
       "      <td>41.338292</td>\n",
       "      <td>32.845849</td>\n",
       "    </tr>\n",
       "    <tr>\n",
       "      <th>2</th>\n",
       "      <td>42.946231</td>\n",
       "      <td>38.615761</td>\n",
       "      <td>38.615761</td>\n",
       "      <td>35.039707</td>\n",
       "    </tr>\n",
       "    <tr>\n",
       "      <th>3</th>\n",
       "      <td>41.686604</td>\n",
       "      <td>37.089222</td>\n",
       "      <td>37.089222</td>\n",
       "      <td>33.901032</td>\n",
       "    </tr>\n",
       "    <tr>\n",
       "      <th>4</th>\n",
       "      <td>39.226973</td>\n",
       "      <td>38.272291</td>\n",
       "      <td>38.272291</td>\n",
       "      <td>37.484928</td>\n",
       "    </tr>\n",
       "  </tbody>\n",
       "</table>\n",
       "</div>"
      ],
      "text/plain": [
       "   dog-automobile   dog-bird    dog-cat    dog-dog\n",
       "0       41.957982  41.753863  41.753863  33.477354\n",
       "1       46.002135  41.338292  41.338292  32.845849\n",
       "2       42.946231  38.615761  38.615761  35.039707\n",
       "3       41.686604  37.089222  37.089222  33.901032\n",
       "4       39.226973  38.272291  38.272291  37.484928"
      ]
     },
     "execution_count": 71,
     "metadata": {},
     "output_type": "execute_result"
    }
   ],
   "source": [
    "dog_distances.head()"
   ]
  },
  {
   "cell_type": "code",
   "execution_count": 72,
   "metadata": {},
   "outputs": [],
   "source": [
    "import numpy as np"
   ]
  },
  {
   "cell_type": "code",
   "execution_count": 108,
   "metadata": {},
   "outputs": [
    {
     "data": {
      "text/plain": [
       "3"
      ]
     },
     "execution_count": 108,
     "metadata": {},
     "output_type": "execute_result"
    }
   ],
   "source": [
    "np.max(np.array([1, 2, 3]))"
   ]
  },
  {
   "cell_type": "code",
   "execution_count": 176,
   "metadata": {},
   "outputs": [],
   "source": [
    "import numpy as np\n",
    "from functools import partial\n",
    "\n",
    "def is_label_correct(row, col: str='dog-dog'):\n",
    "    if row[col] <= np.min(row.values):\n",
    "        return True\n",
    "    else:\n",
    "        return False\n",
    "\n",
    "is_dog_correct = partial(is_label_correct, col='dog-dog')\n",
    "is_cat_correct = partial(is_label_correct, col='cat-cat')"
   ]
  },
  {
   "cell_type": "code",
   "execution_count": 175,
   "metadata": {},
   "outputs": [
    {
     "data": {
      "text/plain": [
       "879"
      ]
     },
     "execution_count": 175,
     "metadata": {},
     "output_type": "execute_result"
    }
   ],
   "source": [
    "dog_distances.apply(is_dog_correct, axis=1).sum()"
   ]
  },
  {
   "cell_type": "markdown",
   "metadata": {},
   "source": [
    "**Misclassified numbers**:"
   ]
  },
  {
   "cell_type": "code",
   "execution_count": 137,
   "metadata": {},
   "outputs": [
    {
     "data": {
      "text/plain": [
       "121"
      ]
     },
     "execution_count": 137,
     "metadata": {},
     "output_type": "execute_result"
    }
   ],
   "source": [
    "len(image_test_dog) - 879"
   ]
  },
  {
   "cell_type": "markdown",
   "metadata": {},
   "source": [
    "**Note**"
   ]
  },
  {
   "cell_type": "code",
   "execution_count": 178,
   "metadata": {},
   "outputs": [],
   "source": [
    "cat_distances = pd.DataFrame({\n",
    "    'cat-automobile': automobile_model.kneighbors(image_test_cat[feature_cols], n_neighbors=1)[0].flatten(),\n",
    "    'cat-bird': bird_model.kneighbors(image_test_cat[feature_cols], n_neighbors=1)[0].flatten(),\n",
    "    'cat-cat': cat_model.kneighbors(image_test_cat[feature_cols], n_neighbors=1)[0].flatten(),\n",
    "    'cat-dog': dog_model.kneighbors(image_test_cat[feature_cols], n_neighbors=1)[0].flatten(),\n",
    "})"
   ]
  },
  {
   "cell_type": "code",
   "execution_count": 179,
   "metadata": {},
   "outputs": [
    {
     "data": {
      "text/html": [
       "<div>\n",
       "<style scoped>\n",
       "    .dataframe tbody tr th:only-of-type {\n",
       "        vertical-align: middle;\n",
       "    }\n",
       "\n",
       "    .dataframe tbody tr th {\n",
       "        vertical-align: top;\n",
       "    }\n",
       "\n",
       "    .dataframe thead th {\n",
       "        text-align: right;\n",
       "    }\n",
       "</style>\n",
       "<table border=\"1\" class=\"dataframe\">\n",
       "  <thead>\n",
       "    <tr style=\"text-align: right;\">\n",
       "      <th></th>\n",
       "      <th>cat-automobile</th>\n",
       "      <th>cat-bird</th>\n",
       "      <th>cat-cat</th>\n",
       "      <th>cat-dog</th>\n",
       "    </tr>\n",
       "  </thead>\n",
       "  <tbody>\n",
       "    <tr>\n",
       "      <th>0</th>\n",
       "      <td>39.671057</td>\n",
       "      <td>38.074267</td>\n",
       "      <td>34.623722</td>\n",
       "      <td>37.464261</td>\n",
       "    </tr>\n",
       "    <tr>\n",
       "      <th>1</th>\n",
       "      <td>43.008906</td>\n",
       "      <td>36.367401</td>\n",
       "      <td>33.868060</td>\n",
       "      <td>29.347234</td>\n",
       "    </tr>\n",
       "    <tr>\n",
       "      <th>2</th>\n",
       "      <td>38.600997</td>\n",
       "      <td>35.303936</td>\n",
       "      <td>32.461518</td>\n",
       "      <td>32.259961</td>\n",
       "    </tr>\n",
       "    <tr>\n",
       "      <th>3</th>\n",
       "      <td>39.356629</td>\n",
       "      <td>38.894403</td>\n",
       "      <td>35.770820</td>\n",
       "      <td>35.385205</td>\n",
       "    </tr>\n",
       "    <tr>\n",
       "      <th>4</th>\n",
       "      <td>38.357236</td>\n",
       "      <td>34.282033</td>\n",
       "      <td>31.157764</td>\n",
       "      <td>30.044301</td>\n",
       "    </tr>\n",
       "  </tbody>\n",
       "</table>\n",
       "</div>"
      ],
      "text/plain": [
       "   cat-automobile   cat-bird    cat-cat    cat-dog\n",
       "0       39.671057  38.074267  34.623722  37.464261\n",
       "1       43.008906  36.367401  33.868060  29.347234\n",
       "2       38.600997  35.303936  32.461518  32.259961\n",
       "3       39.356629  38.894403  35.770820  35.385205\n",
       "4       38.357236  34.282033  31.157764  30.044301"
      ]
     },
     "execution_count": 179,
     "metadata": {},
     "output_type": "execute_result"
    }
   ],
   "source": [
    "cat_distances.head()"
   ]
  },
  {
   "cell_type": "code",
   "execution_count": 180,
   "metadata": {},
   "outputs": [
    {
     "data": {
      "text/plain": [
       "548"
      ]
     },
     "execution_count": 180,
     "metadata": {},
     "output_type": "execute_result"
    }
   ],
   "source": [
    "cat_distances.apply(is_cat_correct, axis='columns').sum()"
   ]
  }
 ],
 "metadata": {
  "kernelspec": {
   "display_name": "Python 3",
   "language": "python",
   "name": "python3"
  },
  "language_info": {
   "codemirror_mode": {
    "name": "ipython",
    "version": 3
   },
   "file_extension": ".py",
   "mimetype": "text/x-python",
   "name": "python",
   "nbconvert_exporter": "python",
   "pygments_lexer": "ipython3",
   "version": "3.8.6"
  }
 },
 "nbformat": 4,
 "nbformat_minor": 4
}
