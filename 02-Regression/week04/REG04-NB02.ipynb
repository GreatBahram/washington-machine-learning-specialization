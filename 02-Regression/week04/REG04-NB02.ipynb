{
 "cells": [
  {
   "cell_type": "markdown",
   "metadata": {},
   "source": [
    "# Regression Week 4: Ridge Regression (gradient descent)"
   ]
  },
  {
   "cell_type": "markdown",
   "metadata": {},
   "source": [
    "In this notebook, you will implement ridge regression via gradient descent. You will:\n",
    "* Convert an SFrame into a Numpy array\n",
    "* Write a Numpy function to compute the derivative of the regression weights with respect to a single feature\n",
    "* Write gradient descent function to compute the regression weights given an initial weight vector, step size, tolerance, and L2 penalty"
   ]
  },
  {
   "cell_type": "markdown",
   "metadata": {},
   "source": [
    "# Fire up Turi Create"
   ]
  },
  {
   "cell_type": "markdown",
   "metadata": {},
   "source": [
    "Make sure you have the latest version of Turi Create"
   ]
  },
  {
   "cell_type": "code",
   "execution_count": 1,
   "metadata": {},
   "outputs": [],
   "source": [
    "import pandas as pd\n",
    "import numpy as np\n",
    "import matplotlib.pyplot as plt\n",
    "\n",
    "%matplotlib inline"
   ]
  },
  {
   "cell_type": "markdown",
   "metadata": {},
   "source": [
    "# Load in house sales data\n",
    "\n",
    "Dataset is from house sales in King County, the region where the city of Seattle, WA is located."
   ]
  },
  {
   "cell_type": "code",
   "execution_count": 2,
   "metadata": {},
   "outputs": [],
   "source": [
    "types = {\n",
    "    \"bathrooms\": float,\n",
    "    \"waterfront\": int,\n",
    "    \"sqft_above\": int,\n",
    "    \"sqft_living15\": float,\n",
    "    \"grade\": int,\n",
    "    \"yr_renovated\": int,\n",
    "    \"price\": float,\n",
    "    \"bedrooms\": float,\n",
    "    \"zipcode\": str,\n",
    "    \"long\": float,\n",
    "    \"sqft_lot15\": float,\n",
    "    \"sqft_living\": float,\n",
    "    \"floors\": str,\n",
    "    \"condition\": int,\n",
    "    \"lat\": float,\n",
    "    \"date\": str,\n",
    "    \"sqft_basement\": int,\n",
    "    \"yr_built\": int,\n",
    "    \"id\": str,\n",
    "    \"sqft_lot\": int,\n",
    "    \"view\": int,\n",
    "}\n",
    "sales = pd.read_csv(\"Data/kc_house_data.csv\", dtype=types)"
   ]
  },
  {
   "cell_type": "markdown",
   "metadata": {},
   "source": [
    "If we want to do any \"feature engineering\" like creating new features or adjusting existing ones we should do this directly using the SFrames as seen in the first notebook of Week 2. For this notebook, however, we will work with the existing features."
   ]
  },
  {
   "cell_type": "markdown",
   "metadata": {},
   "source": [
    "# Import useful functions from previous notebook"
   ]
  },
  {
   "cell_type": "markdown",
   "metadata": {},
   "source": [
    "As in Week 2, we convert the SFrame into a 2D Numpy array. Copy and paste `get_numpy_data()` from the second notebook of Week 2."
   ]
  },
  {
   "cell_type": "code",
   "execution_count": 4,
   "metadata": {},
   "outputs": [],
   "source": [
    "def get_numpy_data(df: pd.DataFrame, features: list[str], output: str):\n",
    "    \"\"\"\n",
    "    Add a constant column into a given data_frame.\n",
    "    Output the actual output.\n",
    "    \"\"\"\n",
    "    df['constant'] = 1\n",
    "    features = ['constant', *features]\n",
    "    return df[features].to_numpy(), df[output]"
   ]
  },
  {
   "cell_type": "code",
   "execution_count": 75,
   "metadata": {},
   "outputs": [],
   "source": [
    "def predict_output(feature_matrix, weights):\n",
    "    # assume feature_matrix is a numpy matrix containing the features as columns and weights is a corresponding numpy array\n",
    "    # create the predictions vector by using np.dot()\n",
    "    predictions = np.dot(feature_matrix, weights)\n",
    "    return predictions"
   ]
  },
  {
   "cell_type": "markdown",
   "metadata": {},
   "source": [
    "Also, copy and paste the `predict_output()` function to compute the predictions for an entire matrix of features given the matrix and the weights:"
   ]
  },
  {
   "cell_type": "code",
   "execution_count": 7,
   "metadata": {},
   "outputs": [],
   "source": [
    "example_features, example_output = get_numpy_data(sales, ['sqft_living'], 'price')"
   ]
  },
  {
   "cell_type": "code",
   "execution_count": 14,
   "metadata": {},
   "outputs": [
    {
     "data": {
      "text/plain": [
       "1181.0"
      ]
     },
     "execution_count": 14,
     "metadata": {},
     "output_type": "execute_result"
    }
   ],
   "source": [
    "my_weights = np.array([1., 1.])\n",
    "my_features = example_features[0]\n",
    "predicted_value = np.dot(my_features, my_weights)\n",
    "predicted_value"
   ]
  },
  {
   "cell_type": "markdown",
   "metadata": {},
   "source": [
    "# Computing the Derivative"
   ]
  },
  {
   "cell_type": "markdown",
   "metadata": {},
   "source": [
    "We are now going to move to computing the derivative of the regression cost function. Recall that the cost function is the sum over the data points of the squared difference between an observed output and a predicted output, plus the L2 penalty term.\n",
    "```\n",
    "Cost(w)\n",
    "= SUM[ (prediction - output)^2 ]\n",
    "+ l2_penalty*(w[0]^2 + w[1]^2 + ... + w[k]^2).\n",
    "```\n",
    "\n",
    "Since the derivative of a sum is the sum of the derivatives, we can take the derivative of the first part (the RSS) as we did in the notebook for the unregularized case in Week 2 and add the derivative of the regularization part.  As we saw, the derivative of the RSS with respect to `w[i]` can be written as: \n",
    "```\n",
    "2*SUM[ error*[feature_i] ].\n",
    "```\n",
    "The derivative of the regularization term with respect to `w[i]` is:\n",
    "```\n",
    "2*l2_penalty*w[i].\n",
    "```\n",
    "Summing both, we get\n",
    "```\n",
    "2*SUM[ error*[feature_i] ] + 2*l2_penalty*w[i].\n",
    "```\n",
    "That is, the derivative for the weight for feature i is the sum (over data points) of 2 times the product of the error and the feature itself, plus `2*l2_penalty*w[i]`. \n",
    "\n",
    "**We will not regularize the constant.**  Thus, in the case of the constant, the derivative is just twice the sum of the errors (without the `2*l2_penalty*w[0]` term).\n",
    "\n",
    "Recall that twice the sum of the product of two vectors is just twice the dot product of the two vectors. Therefore the derivative for the weight for feature_i is just two times the dot product between the values of feature_i and the current errors, plus `2*l2_penalty*w[i]`.\n",
    "\n",
    "With this in mind complete the following derivative function which computes the derivative of the weight given the value of the feature (over all data points) and the errors (over all data points).  To decide when to we are dealing with the constant (so we don't regularize it) we added the extra parameter to the call `feature_is_constant` which you should set to `True` when computing the derivative of the constant and `False` otherwise."
   ]
  },
  {
   "cell_type": "code",
   "execution_count": 55,
   "metadata": {},
   "outputs": [],
   "source": [
    "def feature_derivative_ridge(errors, feature, weight, l2_penalty, feature_is_constant):\n",
    "    if feature_is_constant:\n",
    "        # If feature_is_constant is True, derivative is twice the dot product of errors and feature\n",
    "        return 2 * np.dot(errors, feature)\n",
    "    else:\n",
    "        # Otherwise, derivative is twice the dot product plus 2*l2_penalty*weight\n",
    "        return 2 * np.dot(errors, feature) + 2  * l2_penalty * weight\n",
    "    "
   ]
  },
  {
   "cell_type": "markdown",
   "metadata": {},
   "source": [
    "To test your feature derivartive run the following:"
   ]
  },
  {
   "cell_type": "code",
   "execution_count": 56,
   "metadata": {},
   "outputs": [],
   "source": [
    "(example_features, example_output) = get_numpy_data(sales, ['sqft_living'], 'price') \n",
    "my_weights = np.array([1., 10.])"
   ]
  },
  {
   "cell_type": "code",
   "execution_count": 57,
   "metadata": {},
   "outputs": [
    {
     "data": {
      "text/plain": [
       "array([11801., 25701.,  7701., ..., 10201., 16001., 10201.])"
      ]
     },
     "execution_count": 57,
     "metadata": {},
     "output_type": "execute_result"
    }
   ],
   "source": [
    "test_predictions = predict_output(example_features, my_weights)\n",
    "test_predictions"
   ]
  },
  {
   "cell_type": "code",
   "execution_count": 58,
   "metadata": {},
   "outputs": [],
   "source": [
    "errors = test_predictions - example_output # prediction errors"
   ]
  },
  {
   "cell_type": "code",
   "execution_count": 59,
   "metadata": {},
   "outputs": [
    {
     "data": {
      "text/plain": [
       "-56554166815950.0"
      ]
     },
     "execution_count": 59,
     "metadata": {},
     "output_type": "execute_result"
    }
   ],
   "source": [
    "# next two lines should print the same values\n",
    "feature_derivative_ridge(errors, example_features[:,1], my_weights[1], 1, False)"
   ]
  },
  {
   "cell_type": "code",
   "execution_count": 23,
   "metadata": {},
   "outputs": [
    {
     "data": {
      "text/plain": [
       "-56554166815950.0"
      ]
     },
     "execution_count": 23,
     "metadata": {},
     "output_type": "execute_result"
    }
   ],
   "source": [
    "np.sum(errors*example_features[:,1])*2+20."
   ]
  },
  {
   "cell_type": "code",
   "execution_count": 24,
   "metadata": {},
   "outputs": [
    {
     "data": {
      "text/plain": [
       "-22446749330.0"
      ]
     },
     "execution_count": 24,
     "metadata": {},
     "output_type": "execute_result"
    }
   ],
   "source": [
    "# next two lines should print the same values\n",
    "feature_derivative_ridge(errors, example_features[:,0], my_weights[0], 1, True)"
   ]
  },
  {
   "cell_type": "code",
   "execution_count": 25,
   "metadata": {},
   "outputs": [
    {
     "data": {
      "text/plain": [
       "-22446749330.0"
      ]
     },
     "execution_count": 25,
     "metadata": {},
     "output_type": "execute_result"
    }
   ],
   "source": [
    "np.sum(errors)*2."
   ]
  },
  {
   "cell_type": "markdown",
   "metadata": {},
   "source": [
    "# Gradient Descent"
   ]
  },
  {
   "cell_type": "markdown",
   "metadata": {},
   "source": [
    "Now we will write a function that performs a gradient descent. The basic premise is simple. Given a starting point we update the current weights by moving in the negative gradient direction. Recall that the gradient is the direction of *increase* and therefore the negative gradient is the direction of *decrease* and we're trying to *minimize* a cost function. \n",
    "\n",
    "The amount by which we move in the negative gradient *direction*  is called the 'step size'. We stop when we are 'sufficiently close' to the optimum. Unlike in Week 2, this time we will set a **maximum number of iterations** and take gradient steps until we reach this maximum number. If no maximum number is supplied, the maximum should be set 100 by default. (Use default parameter values in Python.)\n",
    "\n",
    "With this in mind, complete the following gradient descent function below using your derivative function above. For each step in the gradient descent, we update the weight for each feature before computing our stopping criteria."
   ]
  },
  {
   "cell_type": "code",
   "execution_count": 60,
   "metadata": {},
   "outputs": [],
   "source": [
    "def ridge_regression_gradient_descent(feature_matrix, output, initial_weights, step_size, l2_penalty, max_iterations=100):\n",
    "    print('Starting gradient descent with l2_penalty = ' + str(l2_penalty))\n",
    "    \n",
    "    weights = np.array(initial_weights) # make sure it's a numpy array\n",
    "    iteration = 0 # iteration counter\n",
    "    print_frequency = 1  # for adjusting frequency of debugging output\n",
    "    \n",
    "    #while not reached maximum number of iterations:\n",
    "    while iteration < max_iterations:\n",
    "        iteration += 1  # increment iteration counter\n",
    "        ### === code section for adjusting frequency of debugging output. ===\n",
    "        if iteration == 10:\n",
    "            print_frequency = 10\n",
    "        if iteration == 100:\n",
    "            print_frequency = 100\n",
    "        if iteration % print_frequency == 0:\n",
    "            print('Iteration = ' + str(iteration))\n",
    "        ### === end code section ===\n",
    "        \n",
    "        # compute the predictions based on feature_matrix and weights using your predict_output() function\n",
    "        predictions = predict_output(feature_matrix, weights)\n",
    "        # compute the errors as predictions - output\n",
    "        errors = predictions - output\n",
    "\n",
    "        # from time to time, print the value of the cost function\n",
    "        if iteration % print_frequency == 0:\n",
    "            print('Cost function = ', str(np.dot(errors,errors) + l2_penalty*(np.dot(weights,weights) - weights[0]**2)))\n",
    "        \n",
    "        for i in range(len(weights)): # loop over each weight\n",
    "            # Recall that feature_matrix[:,i] is the feature column associated with weights[i]\n",
    "            # compute the derivative for weight[i].\n",
    "            if i == 0:\n",
    "                #(Remember: when i=0, you are computing the derivative of the constant!)\n",
    "                derivative = feature_derivative_ridge(errors, feature_matrix[:, i], weights[i], l2_penalty, feature_is_constant=True)\n",
    "            else:\n",
    "                derivative = feature_derivative_ridge(errors, feature_matrix[:, i], weights[i], l2_penalty, feature_is_constant=False)\n",
    "                        \n",
    "            # subtract the step size times the derivative from the current weight\n",
    "            weights[i] -= step_size * derivative\n",
    "    print('Done with gradient descent at iteration ', iteration)\n",
    "    print('Learned weights = ', str(weights))\n",
    "    return weights"
   ]
  },
  {
   "cell_type": "markdown",
   "metadata": {},
   "source": [
    "# Visualizing effect of L2 penalty"
   ]
  },
  {
   "cell_type": "markdown",
   "metadata": {},
   "source": [
    "The L2 penalty gets its name because it causes weights to have small L2 norms than otherwise. Let's see how large weights get penalized. Let us consider a simple model with 1 feature:"
   ]
  },
  {
   "cell_type": "code",
   "execution_count": 61,
   "metadata": {},
   "outputs": [],
   "source": [
    "simple_features = ['sqft_living']\n",
    "my_output = 'price'"
   ]
  },
  {
   "cell_type": "markdown",
   "metadata": {},
   "source": [
    "Let us split the dataset into training set and test set. Make sure to use `seed=0`:"
   ]
  },
  {
   "cell_type": "code",
   "execution_count": 62,
   "metadata": {},
   "outputs": [],
   "source": [
    "train_data = pd.read_csv(\"Data/kc_house_train_data.csv\", dtype=types)\n",
    "test_data = pd.read_csv(\"Data/kc_house_test_data.csv\", dtype=types)"
   ]
  },
  {
   "cell_type": "markdown",
   "metadata": {},
   "source": [
    "In this part, we will only use `'sqft_living'` to predict `'price'`. Use the `get_numpy_data` function to get a Numpy versions of your data with only this feature, for both the `train_data` and the `test_data`. "
   ]
  },
  {
   "cell_type": "code",
   "execution_count": 77,
   "metadata": {},
   "outputs": [],
   "source": [
    "(simple_feature_matrix, output) = get_numpy_data(train_data, simple_features, my_output)\n",
    "(simple_test_feature_matrix, test_output) = get_numpy_data(test_data, simple_features, my_output)"
   ]
  },
  {
   "cell_type": "markdown",
   "metadata": {},
   "source": [
    "Let's set the parameters for our optimization:"
   ]
  },
  {
   "cell_type": "code",
   "execution_count": 64,
   "metadata": {},
   "outputs": [],
   "source": [
    "initial_weights = np.array([0., 0.])\n",
    "step_size = 1e-12\n",
    "max_iterations=1000"
   ]
  },
  {
   "cell_type": "markdown",
   "metadata": {},
   "source": [
    "First, let's consider no regularization.  Set the `l2_penalty` to `0.0` and run your ridge regression algorithm to learn the weights of your model.  Call your weights:\n",
    "\n",
    "`simple_weights_0_penalty`\n",
    "\n",
    "we'll use them later."
   ]
  },
  {
   "cell_type": "code",
   "execution_count": 65,
   "metadata": {},
   "outputs": [
    {
     "name": "stdout",
     "output_type": "stream",
     "text": [
      "Starting gradient descent with l2_penalty = 0.0\n",
      "Iteration = 1\n",
      "Cost function =  7433051852335772.0\n",
      "Iteration = 2\n",
      "Cost function =  5394267213533688.0\n",
      "Iteration = 3\n",
      "Cost function =  4023237736286403.0\n",
      "Iteration = 4\n",
      "Cost function =  3101256183295487.5\n",
      "Iteration = 5\n",
      "Cost function =  2481247643601011.5\n",
      "Iteration = 6\n",
      "Cost function =  2064308076801446.8\n",
      "Iteration = 7\n",
      "Cost function =  1783927096156441.0\n",
      "Iteration = 8\n",
      "Cost function =  1595378201854741.8\n",
      "Iteration = 9\n",
      "Cost function =  1468583989698184.5\n",
      "Iteration = 10\n",
      "Cost function =  1383318190090050.5\n",
      "Iteration = 20\n",
      "Cost function =  1211562139024524.5\n",
      "Iteration = 30\n",
      "Cost function =  1208313761205656.5\n",
      "Iteration = 40\n",
      "Cost function =  1208252324779675.5\n",
      "Iteration = 50\n",
      "Cost function =  1208251162139724.8\n",
      "Iteration = 60\n",
      "Cost function =  1208251139442068.2\n",
      "Iteration = 70\n",
      "Cost function =  1208251138303841.0\n",
      "Iteration = 80\n",
      "Cost function =  1208251137573361.5\n",
      "Iteration = 90\n",
      "Cost function =  1208251136850594.0\n",
      "Iteration = 100\n",
      "Cost function =  1208251136127972.5\n",
      "Iteration = 200\n",
      "Cost function =  1208251128901788.8\n",
      "Iteration = 300\n",
      "Cost function =  1208251121675612.8\n",
      "Iteration = 400\n",
      "Cost function =  1208251114449445.5\n",
      "Iteration = 500\n",
      "Cost function =  1208251107223286.8\n",
      "Iteration = 600\n",
      "Cost function =  1208251099997136.0\n",
      "Iteration = 700\n",
      "Cost function =  1208251092770993.2\n",
      "Iteration = 800\n",
      "Cost function =  1208251085544859.0\n",
      "Iteration = 900\n",
      "Cost function =  1208251078318733.0\n",
      "Iteration = 1000\n",
      "Cost function =  1208251071092615.0\n",
      "Done with gradient descent at iteration  1000\n",
      "Learned weights =  [-1.63113515e-01  2.63024369e+02]\n"
     ]
    }
   ],
   "source": [
    "simple_weights_0_penalty = 0.0\n",
    "simple_weights_0_penalty = ridge_regression_gradient_descent(\n",
    "    simple_feature_matrix,\n",
    "    output,\n",
    "    initial_weights,\n",
    "    step_size,\n",
    "    simple_weights_0_penalty,\n",
    "    max_iterations=1000\n",
    ")"
   ]
  },
  {
   "cell_type": "markdown",
   "metadata": {},
   "source": [
    "Next, let's consider high regularization.  Set the `l2_penalty` to `1e11` and run your ridge regression algorithm to learn the weights of your model.  Call your weights:\n",
    "\n",
    "`simple_weights_high_penalty`\n",
    "\n",
    "we'll use them later."
   ]
  },
  {
   "cell_type": "code",
   "execution_count": 66,
   "metadata": {},
   "outputs": [
    {
     "name": "stdout",
     "output_type": "stream",
     "text": [
      "Starting gradient descent with l2_penalty = 100000000000.0\n",
      "Iteration = 1\n",
      "Cost function =  7433051852335772.0\n",
      "Iteration = 2\n",
      "Cost function =  5618303898910948.0\n",
      "Iteration = 3\n",
      "Cost function =  4920613278301801.0\n",
      "Iteration = 4\n",
      "Cost function =  4652381942678798.0\n",
      "Iteration = 5\n",
      "Cost function =  4549258764034560.0\n",
      "Iteration = 6\n",
      "Cost function =  4509612390884944.0\n",
      "Iteration = 7\n",
      "Cost function =  4494370050276983.0\n",
      "Iteration = 8\n",
      "Cost function =  4488509984023467.0\n",
      "Iteration = 9\n",
      "Cost function =  4486256988524010.0\n",
      "Iteration = 10\n",
      "Cost function =  4485390752666540.0\n",
      "Iteration = 20\n",
      "Cost function =  4484848868025912.0\n",
      "Iteration = 30\n",
      "Cost function =  4484847880470641.0\n",
      "Iteration = 40\n",
      "Cost function =  4484846931073274.5\n",
      "Iteration = 50\n",
      "Cost function =  4484845981678998.0\n",
      "Iteration = 60\n",
      "Cost function =  4484845032285121.0\n",
      "Iteration = 70\n",
      "Cost function =  4484844082891642.5\n",
      "Iteration = 80\n",
      "Cost function =  4484843133498564.0\n",
      "Iteration = 90\n",
      "Cost function =  4484842184105883.0\n",
      "Iteration = 100\n",
      "Cost function =  4484841234713601.5\n",
      "Iteration = 200\n",
      "Cost function =  4484831740812718.0\n",
      "Iteration = 300\n",
      "Cost function =  4484822246951714.5\n",
      "Iteration = 400\n",
      "Cost function =  4484812753130591.0\n",
      "Iteration = 500\n",
      "Cost function =  4484803259349349.0\n",
      "Iteration = 600\n",
      "Cost function =  4484793765607986.0\n",
      "Iteration = 700\n",
      "Cost function =  4484784271906503.0\n",
      "Iteration = 800\n",
      "Cost function =  4484774778244900.5\n",
      "Iteration = 900\n",
      "Cost function =  4484765284623177.0\n",
      "Iteration = 1000\n",
      "Cost function =  4484755791041333.0\n",
      "Done with gradient descent at iteration  1000\n",
      "Learned weights =  [  9.76730382 124.57217567]\n"
     ]
    }
   ],
   "source": [
    "simple_weights_high_penalty =  1e11\n",
    "\n",
    "simple_weights_high_penalty = ridge_regression_gradient_descent(\n",
    "    simple_feature_matrix,\n",
    "    output,\n",
    "    initial_weights,\n",
    "    step_size,\n",
    "    simple_weights_high_penalty,\n",
    "    max_iterations=1000\n",
    ")"
   ]
  },
  {
   "cell_type": "markdown",
   "metadata": {},
   "source": [
    "This code will plot the two learned models.  (The blue line is for the model with no regularization and the red line is for the one with high regularization.)"
   ]
  },
  {
   "cell_type": "code",
   "execution_count": 73,
   "metadata": {},
   "outputs": [
    {
     "data": {
      "image/png": "[encoded data removed]",
      "text/plain": [
       "<Figure size 432x288 with 1 Axes>"
      ]
     },
     "metadata": {
      "needs_background": "light"
     },
     "output_type": "display_data"
    }
   ],
   "source": [
    "sqft_living = simple_feature_matrix[:, 1]\n",
    "plt.plot(\n",
    "    sqft_living, output,'k.',\n",
    "    sqft_living, predict_output(simple_feature_matrix, simple_weights_0_penalty),'b-',\n",
    "    sqft_living, predict_output(simple_feature_matrix, simple_weights_high_penalty),'r-'\n",
    ")\n",
    "plt.legend(['', 'No Regularization', 'High L2 Regularization'])\n",
    "plt.show()"
   ]
  },
  {
   "cell_type": "markdown",
   "metadata": {},
   "source": [
    "Compute the RSS on the TEST data for the following three sets of weights:\n",
    "1. The initial weights (all zeros)\n",
    "2. The weights learned with no regularization\n",
    "3. The weights learned with high regularization\n",
    "\n",
    "Which weights perform best?"
   ]
  },
  {
   "cell_type": "code",
   "execution_count": 81,
   "metadata": {},
   "outputs": [
    {
     "name": "stdout",
     "output_type": "stream",
     "text": [
      "RSS for initial weights (0) : 1784273286136298.0\n"
     ]
    }
   ],
   "source": [
    "initial_weights = np.array([0, 0])\n",
    "\n",
    "predicted = predict_output(simple_test_feature_matrix, initial_weights)\n",
    "rss =  np.power((predicted - test_output), 2).sum()\n",
    "print(f\"RSS for initial weights (0) : {rss}\")"
   ]
  },
  {
   "cell_type": "code",
   "execution_count": 82,
   "metadata": {},
   "outputs": [
    {
     "name": "stdout",
     "output_type": "stream",
     "text": [
      "RSS for no regularization : 275723632153607.44\n"
     ]
    }
   ],
   "source": [
    "predicted = predict_output(simple_test_feature_matrix, simple_weights_0_penalty)\n",
    "rss =  np.power((predicted - test_output), 2).sum()\n",
    "print(f\"RSS for no regularization : {rss}\")"
   ]
  },
  {
   "cell_type": "code",
   "execution_count": 83,
   "metadata": {},
   "outputs": [
    {
     "name": "stdout",
     "output_type": "stream",
     "text": [
      "RSS for high regularization : 694642101489902.5\n"
     ]
    }
   ],
   "source": [
    "predicted = predict_output(simple_test_feature_matrix, simple_weights_high_penalty)\n",
    "rss =  np.power((predicted - test_output), 2).sum()\n",
    "print(f\"RSS for high regularization : {rss}\")"
   ]
  },
  {
   "cell_type": "markdown",
   "metadata": {},
   "source": [
    "***QUIZ QUESTIONS***\n",
    "1. What is the value of the coefficient for `sqft_living` that you learned with no regularization, rounded to 1 decimal place?  What about the one with high regularization?\n",
    "2. Comparing the lines you fit with the with no regularization versus high regularization, which one is steeper?\n",
    "3. What are the RSS on the test data for each of the set of weights above (initial, no regularization, high regularization)? \n"
   ]
  },
  {
   "cell_type": "code",
   "execution_count": 84,
   "metadata": {},
   "outputs": [
    {
     "data": {
      "text/plain": [
       "array([-1.63113515e-01,  2.63024369e+02])"
      ]
     },
     "execution_count": 84,
     "metadata": {},
     "output_type": "execute_result"
    }
   ],
   "source": [
    "simple_weights_0_penalty"
   ]
  },
  {
   "cell_type": "code",
   "execution_count": 85,
   "metadata": {},
   "outputs": [
    {
     "data": {
      "text/plain": [
       "array([  9.76730382, 124.57217567])"
      ]
     },
     "execution_count": 85,
     "metadata": {},
     "output_type": "execute_result"
    }
   ],
   "source": [
    "simple_weights_high_penalty"
   ]
  },
  {
   "cell_type": "markdown",
   "metadata": {},
   "source": [
    "# Running a multiple regression with L2 penalty"
   ]
  },
  {
   "cell_type": "markdown",
   "metadata": {},
   "source": [
    "Let us now consider a model with 2 features: `['sqft_living', 'sqft_living15']`."
   ]
  },
  {
   "cell_type": "markdown",
   "metadata": {},
   "source": [
    "First, create Numpy versions of your training and test data with these two features. "
   ]
  },
  {
   "cell_type": "code",
   "execution_count": 88,
   "metadata": {},
   "outputs": [],
   "source": [
    "model_features = ['sqft_living', 'sqft_living15'] # sqft_living15 is the average squarefeet for the nearest 15 neighbors. \n",
    "my_output = 'price'\n",
    "(multiple_feature_matrix, multiple_output) = get_numpy_data(train_data, model_features, my_output)\n",
    "(test_feature_matrix, test_output) = get_numpy_data(test_data, model_features, my_output)"
   ]
  },
  {
   "cell_type": "markdown",
   "metadata": {},
   "source": [
    "We need to re-inialize the weights, since we have one extra parameter. Let us also set the step size and maximum number of iterations."
   ]
  },
  {
   "cell_type": "markdown",
   "metadata": {},
   "source": [
    "First, let's consider no regularization.  Set the `l2_penalty` to `0.0` and run your ridge regression algorithm to learn the weights of your model.  Call your weights:\n",
    "\n",
    "`multiple_weights_0_penalty`"
   ]
  },
  {
   "cell_type": "code",
   "execution_count": 103,
   "metadata": {},
   "outputs": [
    {
     "name": "stdout",
     "output_type": "stream",
     "text": [
      "Starting gradient descent with l2_penalty = 0.0\n",
      "Iteration = 1\n",
      "Cost function =  7433051852335772.0\n",
      "Iteration = 2\n",
      "Cost function =  4056752332045942.5\n",
      "Iteration = 3\n",
      "Cost function =  2529565114525309.5\n",
      "Iteration = 4\n",
      "Cost function =  1838556694300507.0\n",
      "Iteration = 5\n",
      "Cost function =  1525675575150296.5\n",
      "Iteration = 6\n",
      "Cost function =  1383789498571783.5\n",
      "Iteration = 7\n",
      "Cost function =  1319232606146273.8\n",
      "Iteration = 8\n",
      "Cost function =  1289648871879140.5\n",
      "Iteration = 9\n",
      "Cost function =  1275884723913736.8\n",
      "Iteration = 10\n",
      "Cost function =  1269278807397619.0\n",
      "Iteration = 20\n",
      "Cost function =  1257812386017016.0\n",
      "Iteration = 30\n",
      "Cost function =  1251954570861556.0\n",
      "Iteration = 40\n",
      "Cost function =  1246755422656426.0\n",
      "Iteration = 50\n",
      "Cost function =  1242139508166548.5\n",
      "Iteration = 60\n",
      "Cost function =  1238041400480994.0\n",
      "Iteration = 70\n",
      "Cost function =  1234403012742171.0\n",
      "Iteration = 80\n",
      "Cost function =  1231172774196731.0\n",
      "Iteration = 90\n",
      "Cost function =  1228304899227735.5\n",
      "Iteration = 100\n",
      "Cost function =  1225758738385979.0\n",
      "Iteration = 200\n",
      "Cost function =  1211738880290897.0\n",
      "Iteration = 300\n",
      "Cost function =  1207473079755049.8\n",
      "Iteration = 400\n",
      "Cost function =  1206175124539964.8\n",
      "Iteration = 500\n",
      "Cost function =  1205780188995876.5\n",
      "Iteration = 600\n",
      "Cost function =  1205660013231388.5\n",
      "Iteration = 700\n",
      "Cost function =  1205623438011734.5\n",
      "Iteration = 800\n",
      "Cost function =  1205612299743252.2\n",
      "Iteration = 900\n",
      "Cost function =  1205608901119130.5\n",
      "Iteration = 1000\n",
      "Cost function =  1205607857419329.8\n",
      "Done with gradient descent at iteration  1000\n",
      "Learned weights =  [ -0.35743483 243.05416982  22.41481497]\n"
     ]
    }
   ],
   "source": [
    "initial_weights = np.array([0.0 ,0.0 , 0.0])\n",
    "step_size = 1e-12\n",
    "max_iterations = 1000\n",
    "multiple_weights_0_penalty = 0.0\n",
    "\n",
    "multiple_weights_0_penalty = ridge_regression_gradient_descent(\n",
    "    multiple_feature_matrix,\n",
    "    multiple_output,\n",
    "    initial_weights,\n",
    "    step_size,\n",
    "    l2_penalty=0.0,\n",
    "    max_iterations=1000\n",
    ")"
   ]
  },
  {
   "cell_type": "markdown",
   "metadata": {},
   "source": [
    "Next, let's consider high regularization.  Set the `l2_penalty` to `1e11` and run your ridge regression algorithm to learn the weights of your model.  Call your weights:\n",
    "\n",
    "`multiple_weights_high_penalty`"
   ]
  },
  {
   "cell_type": "code",
   "execution_count": 104,
   "metadata": {},
   "outputs": [
    {
     "name": "stdout",
     "output_type": "stream",
     "text": [
      "Starting gradient descent with l2_penalty = 100000000000.0\n",
      "Iteration = 1\n",
      "Cost function =  7433051852335772.0\n",
      "Iteration = 2\n",
      "Cost function =  4460489790922030.5\n",
      "Iteration = 3\n",
      "Cost function =  3796674469325300.0\n",
      "Iteration = 4\n",
      "Cost function =  3648319530880127.0\n",
      "Iteration = 5\n",
      "Cost function =  3615091103648369.0\n",
      "Iteration = 6\n",
      "Cost function =  3607602742943372.0\n",
      "Iteration = 7\n",
      "Cost function =  3605886322588678.5\n",
      "Iteration = 8\n",
      "Cost function =  3605474874959446.0\n",
      "Iteration = 9\n",
      "Cost function =  3605365168191211.0\n",
      "Iteration = 10\n",
      "Cost function =  3605329402609967.0\n",
      "Iteration = 20\n",
      "Cost function =  3605294281447482.0\n",
      "Iteration = 30\n",
      "Cost function =  3605293537691883.0\n",
      "Iteration = 40\n",
      "Cost function =  3605293083174690.0\n",
      "Iteration = 50\n",
      "Cost function =  3605292631531143.5\n",
      "Iteration = 60\n",
      "Cost function =  3605292179916288.0\n",
      "Iteration = 70\n",
      "Cost function =  3605291728301859.5\n",
      "Iteration = 80\n",
      "Cost function =  3605291276687576.0\n",
      "Iteration = 90\n",
      "Cost function =  3605290825073435.0\n",
      "Iteration = 100\n",
      "Cost function =  3605290373459437.0\n",
      "Iteration = 200\n",
      "Cost function =  3605285857327309.0\n",
      "Iteration = 300\n",
      "Cost function =  3605281341209459.0\n",
      "Iteration = 400\n",
      "Cost function =  3605276825105885.0\n",
      "Iteration = 500\n",
      "Cost function =  3605272309016589.0\n",
      "Iteration = 600\n",
      "Cost function =  3605267792941569.0\n",
      "Iteration = 700\n",
      "Cost function =  3605263276880827.0\n",
      "Iteration = 800\n",
      "Cost function =  3605258760834361.0\n",
      "Iteration = 900\n",
      "Cost function =  3605254244802172.0\n",
      "Iteration = 1000\n",
      "Cost function =  3605249728784259.5\n",
      "Done with gradient descent at iteration  1000\n",
      "Learned weights =  [ 6.74296579 91.48927365 78.43658766]\n"
     ]
    }
   ],
   "source": [
    "initial_weights = np.array([0.0 ,0.0 , 0.0])\n",
    "\n",
    "multiple_weights_high_penalty = ridge_regression_gradient_descent(\n",
    "    multiple_feature_matrix,\n",
    "    multiple_output,\n",
    "    initial_weights,\n",
    "    step_size=1e-12,\n",
    "    l2_penalty=1e11,\n",
    "    max_iterations=1000\n",
    ")"
   ]
  },
  {
   "cell_type": "markdown",
   "metadata": {},
   "source": [
    "Compute the RSS on the TEST data for the following three sets of weights:\n",
    "1. The initial weights (all zeros)\n",
    "2. The weights learned with no regularization\n",
    "3. The weights learned with high regularization\n",
    "\n",
    "Which weights perform best?"
   ]
  },
  {
   "cell_type": "code",
   "execution_count": 105,
   "metadata": {},
   "outputs": [
    {
     "name": "stdout",
     "output_type": "stream",
     "text": [
      "RSS for initial weights (0) : 1784273286136298.0\n"
     ]
    }
   ],
   "source": [
    "initial_weights = np.array([0.0, 0.0, 0.0])\n",
    "\n",
    "predicted = predict_output(test_feature_matrix, initial_weights)\n",
    "rss =  np.power((predicted - test_output), 2).sum()\n",
    "print(f\"RSS for initial weights (0) : {rss}\")"
   ]
  },
  {
   "cell_type": "code",
   "execution_count": 106,
   "metadata": {},
   "outputs": [],
   "source": [
    "multiple_0_predictions = predict_output(test_feature_matrix, multiple_weights_0_penalty)"
   ]
  },
  {
   "cell_type": "code",
   "execution_count": 108,
   "metadata": {},
   "outputs": [
    {
     "name": "stdout",
     "output_type": "stream",
     "text": [
      "RSS for no regularization : 274067615918575.56\n"
     ]
    }
   ],
   "source": [
    "rss =  np.power((multiple_0_predictions - test_output), 2).sum()\n",
    "print(f\"RSS for no regularization : {rss}\")"
   ]
  },
  {
   "cell_type": "code",
   "execution_count": 110,
   "metadata": {},
   "outputs": [
    {
     "name": "stdout",
     "output_type": "stream",
     "text": [
      "RSS for high regularization : 500404800500841.75\n"
     ]
    }
   ],
   "source": [
    "multiple_high_predictions = predict_output(test_feature_matrix, multiple_weights_high_penalty)\n",
    "rss =  np.power((multiple_high_predictions - test_output), 2).sum()\n",
    "print(f\"RSS for high regularization : {rss}\")"
   ]
  },
  {
   "cell_type": "markdown",
   "metadata": {},
   "source": [
    "Predict the house price for the 1st house in the test set using the no regularization and high regularization models. (Remember that python starts indexing from 0.) How far is the prediction from the actual price?  Which weights perform best for the 1st house?"
   ]
  },
  {
   "cell_type": "code",
   "execution_count": 118,
   "metadata": {},
   "outputs": [
    {
     "name": "stdout",
     "output_type": "stream",
     "text": [
      "Prediction for the first house in the test set using no regularization: $387465.4760582353\n"
     ]
    }
   ],
   "source": [
    "print(f\"Prediction for the first house in the test set using no regularization: ${multiple_0_predictions[0]}\")"
   ]
  },
  {
   "cell_type": "code",
   "execution_count": 120,
   "metadata": {},
   "outputs": [
    {
     "name": "stdout",
     "output_type": "stream",
     "text": [
      "Prediction for the first house in the test set using High regularization: $270453.53032194055\n"
     ]
    }
   ],
   "source": [
    "print(f\"Prediction for the first house in the test set using High regularization: ${multiple_high_predictions[0]}\")"
   ]
  },
  {
   "cell_type": "code",
   "execution_count": 121,
   "metadata": {},
   "outputs": [
    {
     "name": "stdout",
     "output_type": "stream",
     "text": [
      "Actual price 310000.0\n"
     ]
    }
   ],
   "source": [
    "print(\"Actual price\", test_output[0])"
   ]
  },
  {
   "cell_type": "markdown",
   "metadata": {},
   "source": [
    "***QUIZ QUESTIONS***\n",
    "1. What is the value of the coefficient for `sqft_living` that you learned with no regularization, rounded to 1 decimal place?  What about the one with high regularization?\n",
    "2. What are the RSS on the test data for each of the set of weights above (initial, no regularization, high regularization)? \n",
    "3. We make prediction for the first house in the test set using two sets of weights (no regularization vs high regularization). Which weights make better prediction <u>for that particular house</u>?"
   ]
  },
  {
   "cell_type": "code",
   "execution_count": 122,
   "metadata": {},
   "outputs": [
    {
     "data": {
      "text/plain": [
       "array([ -0.35743483, 243.05416982,  22.41481497])"
      ]
     },
     "execution_count": 122,
     "metadata": {},
     "output_type": "execute_result"
    }
   ],
   "source": [
    "multiple_weights_0_penalty"
   ]
  },
  {
   "cell_type": "code",
   "execution_count": 123,
   "metadata": {},
   "outputs": [
    {
     "data": {
      "text/plain": [
       "array([ 6.74296579, 91.48927365, 78.43658766])"
      ]
     },
     "execution_count": 123,
     "metadata": {},
     "output_type": "execute_result"
    }
   ],
   "source": [
    "multiple_weights_high_penalty"
   ]
  },
  {
   "cell_type": "code",
   "execution_count": 124,
   "metadata": {},
   "outputs": [
    {
     "data": {
      "text/plain": [
       "array([[1.00e+00, 1.18e+03, 1.34e+03],\n",
       "       [1.00e+00, 2.57e+03, 1.69e+03],\n",
       "       [1.00e+00, 7.70e+02, 2.72e+03],\n",
       "       ...,\n",
       "       [1.00e+00, 1.53e+03, 1.53e+03],\n",
       "       [1.00e+00, 1.60e+03, 1.41e+03],\n",
       "       [1.00e+00, 1.02e+03, 1.02e+03]])"
      ]
     },
     "execution_count": 124,
     "metadata": {},
     "output_type": "execute_result"
    }
   ],
   "source": [
    "multiple_feature_matrix"
   ]
  },
  {
   "cell_type": "code",
   "execution_count": 132,
   "metadata": {},
   "outputs": [
    {
     "data": {
      "image/png": "[encoded data removed]",
      "text/plain": [
       "<Figure size 432x288 with 1 Axes>"
      ]
     },
     "metadata": {
      "needs_background": "light"
     },
     "output_type": "display_data"
    }
   ],
   "source": [
    "sqft_living = multiple_feature_matrix[:, 1]\n",
    "plt.plot(\n",
    "    sqft_living, output,'k.',\n",
    "    sqft_living, predict_output(multiple_feature_matrix, multiple_weights_0_penalty),'b-',\n",
    "    sqft_living, predict_output(multiple_feature_matrix, multiple_weights_high_penalty),'r-'\n",
    ")\n",
    "plt.legend(['', 'No Regularization', 'High L2 Regularization'])\n",
    "plt.show()"
   ]
  },
  {
   "cell_type": "code",
   "execution_count": 133,
   "metadata": {},
   "outputs": [
    {
     "data": {
      "image/png": "[encoded data removed]",
      "text/plain": [
       "<Figure size 432x288 with 1 Axes>"
      ]
     },
     "metadata": {
      "needs_background": "light"
     },
     "output_type": "display_data"
    }
   ],
   "source": [
    "sqft_living15 = multiple_feature_matrix[:, 2]\n",
    "plt.plot(\n",
    "    sqft_living15, output,'k.',\n",
    "    sqft_living15, predict_output(multiple_feature_matrix, multiple_weights_0_penalty),'b-',\n",
    "    sqft_living15, predict_output(multiple_feature_matrix, multiple_weights_high_penalty),'r-'\n",
    ")\n",
    "plt.legend(['', 'No Regularization', 'High L2 Regularization'])\n",
    "plt.show()"
   ]
  }
 ],
 "metadata": {
  "kernelspec": {
   "display_name": "Python 3 (ipykernel)",
   "language": "python",
   "name": "python3"
  },
  "language_info": {
   "codemirror_mode": {
    "name": "ipython",
    "version": 3
   },
   "file_extension": ".py",
   "mimetype": "text/x-python",
   "name": "python",
   "nbconvert_exporter": "python",
   "pygments_lexer": "ipython3",
   "version": "3.9.5"
  }
 },
 "nbformat": 4,
 "nbformat_minor": 4
}
